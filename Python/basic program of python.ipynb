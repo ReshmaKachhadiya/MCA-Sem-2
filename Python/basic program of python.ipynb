{
 "cells": [
  {
   "cell_type": "markdown",
   "id": "cd75a3a3",
   "metadata": {},
   "source": [
    "Basic Program of python"
   ]
  },
  {
   "cell_type": "markdown",
   "id": "42003797",
   "metadata": {},
   "source": [
    "1.Python program to add two numbers"
   ]
  },
  {
   "cell_type": "code",
   "execution_count": 1,
   "id": "75f43c69",
   "metadata": {},
   "outputs": [
    {
     "name": "stdout",
     "output_type": "stream",
     "text": [
      "Enter a vlaue for no1 : 12\n",
      "Enter a value for no2 : 90\n",
      "Ans of 12 + 90 = 102\n"
     ]
    }
   ],
   "source": [
    "no1 = int(input(\"Enter a vlaue for no1 : \"))\n",
    "no2 = int(input(\"Enter a value for no2 : \"))\n",
    "print(f'Ans of {no1} + {no2} = {no1+no2}')"
   ]
  },
  {
   "cell_type": "markdown",
   "id": "5aa15246",
   "metadata": {},
   "source": [
    "2.Maximum of two numbers in Python"
   ]
  },
  {
   "cell_type": "code",
   "execution_count": 3,
   "id": "29adeafe",
   "metadata": {},
   "outputs": [
    {
     "name": "stdout",
     "output_type": "stream",
     "text": [
      "Enter value of no1 : 90\n",
      "Enter value of no2 : 78\n",
      "90 is maximum\n"
     ]
    }
   ],
   "source": [
    "no1 = int(input(\"Enter value of no1 : \"))\n",
    "no2 = int(input(\"Enter value of no2 : \"))\n",
    "if no1> no2:\n",
    "    print(f\"{no1} is maximum\")\n",
    "else:\n",
    "    print(f\"{no2} is maximum\")"
   ]
  },
  {
   "cell_type": "markdown",
   "id": "35937e70",
   "metadata": {},
   "source": [
    "3.Python Program for factorial of a number"
   ]
  },
  {
   "cell_type": "code",
   "execution_count": 3,
   "id": "d3c767b1",
   "metadata": {},
   "outputs": [
    {
     "name": "stdout",
     "output_type": "stream",
     "text": [
      "Enter a num for find the factorial :4\n",
      "Factorial of 4 = 24\n"
     ]
    }
   ],
   "source": [
    "def fact(num):\n",
    "    if num == 0 or num == 1:\n",
    "        return 1\n",
    "    else:\n",
    "        return num * fact(num - 1)\n",
    "n = int(input(\"Enter a num for find the factorial :\"))\n",
    "ans = fact(n)\n",
    "print(f\"Factorial of {n} = {ans}\")\n",
    "    "
   ]
  },
  {
   "cell_type": "markdown",
   "id": "dcdf15f5",
   "metadata": {},
   "source": [
    "4.Python Program for simple interest"
   ]
  },
  {
   "cell_type": "code",
   "execution_count": 1,
   "id": "359256fd",
   "metadata": {},
   "outputs": [
    {
     "name": "stdout",
     "output_type": "stream",
     "text": [
      "Enter a value of p(Principal) : 4000\n",
      "Enter a value of r(Rate) : 10\n",
      "Enter a value of n : 2\n",
      "Principal Amount : 4000\n",
      "Rate of interest : 10.0\n",
      "Number of Year : 2.0\n",
      "Simple intrest : 800.0\n"
     ]
    }
   ],
   "source": [
    "p = int(input(\"Enter a value of p(Principal) : \"))\n",
    "r = float(input(\"Enter a value of r(Rate) : \"))\n",
    "n = float(input(\"Enter a value of n : \"))\n",
    "print(f\"Principal Amount : {p}\")\n",
    "print(f\"Rate of interest : {r}\")\n",
    "print(f\"Number of Year : {n}\")\n",
    "print(f\"Simple intrest : {(p*r*n)/100}\")"
   ]
  },
  {
   "cell_type": "markdown",
   "id": "9f4a1a6c",
   "metadata": {},
   "source": [
    "5.Python Program for compound interest\n",
    " "
   ]
  },
  {
   "cell_type": "code",
   "execution_count": 8,
   "id": "0d916163",
   "metadata": {},
   "outputs": [
    {
     "name": "stdout",
     "output_type": "stream",
     "text": [
      "Enter a value of p(Principal) : 1200\n",
      "Enter a value of r(Rate) : 3\n",
      "Enter a value of n : 3\n",
      "compount interest: 111.27240000000006\n"
     ]
    }
   ],
   "source": [
    "p = int(input(\"Enter a value of p(Principal) : \"))\n",
    "r = float(input(\"Enter a value of r(Rate) : \"))\n",
    "n = float(input(\"Enter a value of n : \"))\n",
    "a = p*pow((1 + r/100),n)\n",
    "\n",
    "print(f\"compount interest: {a - p}\")"
   ]
  },
  {
   "cell_type": "markdown",
   "id": "720a932e",
   "metadata": {},
   "source": [
    "6.Python Program to check Armstrong Number"
   ]
  },
  {
   "cell_type": "code",
   "execution_count": 10,
   "id": "92c89aba",
   "metadata": {},
   "outputs": [
    {
     "name": "stdout",
     "output_type": "stream",
     "text": [
      "Enter a Number : 190\n",
      "190 is not armstrong\n"
     ]
    }
   ],
   "source": [
    "num = int(input(\"Enter a Number : \"))\n",
    "\n",
    "sum = 0\n",
    "\n",
    "temp = num\n",
    "while temp > 0 :\n",
    "    digit = temp % 10\n",
    "    sum += digit ** 3\n",
    "    temp //=10\n",
    "\n",
    "if num == sum:\n",
    "    print(f\"{num} is armstrong\")\n",
    "else:\n",
    "    print(f\"{num} is not armstrong\")"
   ]
  },
  {
   "cell_type": "markdown",
   "id": "1976e631",
   "metadata": {},
   "source": [
    "7.Python Program for Program to find area of a circle"
   ]
  },
  {
   "cell_type": "code",
   "execution_count": 11,
   "id": "7b9ed751",
   "metadata": {},
   "outputs": [
    {
     "name": "stdout",
     "output_type": "stream",
     "text": [
      "Enter value for r : 2.5\n",
      "Value of area is 19.634954084936208\n"
     ]
    }
   ],
   "source": [
    "import math \n",
    "\n",
    "r = float(input(\"Enter value for r : \"))\n",
    "area = math.pi * r * r \n",
    "print(f\"Value of area is {area}\")"
   ]
  },
  {
   "cell_type": "markdown",
   "id": "42c28454",
   "metadata": {},
   "source": [
    "8.Python program to print all Prime numbers in an Interval"
   ]
  },
  {
   "cell_type": "code",
   "execution_count": 15,
   "id": "35479dab",
   "metadata": {},
   "outputs": [
    {
     "name": "stdout",
     "output_type": "stream",
     "text": [
      "Enter Starting number : 1\n",
      "Enter Endin number : 30\n",
      "2\n",
      "3\n",
      "5\n",
      "7\n",
      "11\n",
      "13\n",
      "17\n",
      "19\n",
      "23\n",
      "29\n"
     ]
    }
   ],
   "source": [
    "start = int(input(\"Enter Starting number : \"))\n",
    "end = int(input(\"Enter Endin number : \"))\n",
    "for num in range(start,end + 1):  \n",
    "    if num > 1:  \n",
    "        for i in range(2,num):  \n",
    "            if (num % i) == 0:  \n",
    "                break  \n",
    "        else:  \n",
    "            print(num)  "
   ]
  },
  {
   "cell_type": "markdown",
   "id": "75bd2e5f",
   "metadata": {},
   "source": [
    "9.Python program to check whether a number is Prime or not\n"
   ]
  },
  {
   "cell_type": "code",
   "execution_count": 17,
   "id": "fedf212a",
   "metadata": {},
   "outputs": [
    {
     "name": "stdout",
     "output_type": "stream",
     "text": [
      "Enter a number : 4\n",
      " 4 is not prime :\n"
     ]
    }
   ],
   "source": [
    "num = int(input(\"Enter a number : \"))\n",
    "if num > 1:\n",
    "    for i in range(2,num):\n",
    "        if(num % i ) == 0:\n",
    "            print(f\" {num} is not prime :\")\n",
    "            break\n",
    "    else:\n",
    "        print(f\" {num} is prime :\")\n",
    "        \n",
    "        "
   ]
  },
  {
   "cell_type": "markdown",
   "id": "b87c85c7",
   "metadata": {},
   "source": [
    "10.Python Program for n-th Fibonacci number"
   ]
  },
  {
   "cell_type": "code",
   "execution_count": 20,
   "id": "b307ae8a",
   "metadata": {},
   "outputs": [
    {
     "name": "stdout",
     "output_type": "stream",
     "text": [
      "21\n"
     ]
    }
   ],
   "source": [
    "def Fibonacci(n):\n",
    "    if n<0:\n",
    "        print(\"Incorrect input\")\n",
    "    elif n==1:\n",
    "        return 0\n",
    "    elif n==2:\n",
    "        return 1\n",
    "    else:\n",
    "        return Fibonacci(n-1)+Fibonacci(n-2)\n",
    "\n",
    "print(Fibonacci(9))\n",
    "  \n"
   ]
  },
  {
   "cell_type": "markdown",
   "id": "42653a39",
   "metadata": {},
   "source": [
    "11.Python Program for How to check if a given number is Fibonacci number?"
   ]
  },
  {
   "cell_type": "code",
   "execution_count": 4,
   "id": "34ff0435",
   "metadata": {},
   "outputs": [
    {
     "name": "stdout",
     "output_type": "stream",
     "text": [
      "Enter a Number: 41\n",
      "41 is not fibonacci number\n"
     ]
    }
   ],
   "source": [
    "n = int(input(\"Enter a Number: \"))\n",
    "a= 0\n",
    "b=1\n",
    "c=1\n",
    "if n == 0 or n == 1:\n",
    "    print(f\"{n} is fibonacci number\")\n",
    "else:\n",
    "    while a<n:\n",
    "        a = b+c\n",
    "        b=c\n",
    "        c=a\n",
    "    if c == n:\n",
    "        print(f\"{n} is fibonacci number\")\n",
    "    else:\n",
    "        print(f\"{n} is not fibonacci number\")"
   ]
  },
  {
   "cell_type": "markdown",
   "id": "56a0a812",
   "metadata": {},
   "source": [
    "12.Python Program for n\\’th multiple of a number in Fibonacci Series"
   ]
  },
  {
   "cell_type": "code",
   "execution_count": 7,
   "id": "3f81951a",
   "metadata": {},
   "outputs": [
    {
     "name": "stdout",
     "output_type": "stream",
     "text": [
      "Fibonacci Seires is:30\n"
     ]
    }
   ],
   "source": [
    "def findPosition(k, n):\n",
    "    f1 = 0\n",
    "    f2 = 1\n",
    "    i =2; \n",
    "    while i!=0:\n",
    "        f3 = f1 + f2;\n",
    "        f1 = f2;\n",
    "        f2 = f3;\n",
    "  \n",
    "        if f2%k == 0:\n",
    "            return n*i\n",
    "  \n",
    "        i+=1\n",
    "          \n",
    "    return \n",
    "n = 5\n",
    "k = 4\n",
    "  \n",
    "print(f\"Fibonacci Seires is:{findPosition(k,n)}\")  "
   ]
  },
  {
   "cell_type": "markdown",
   "id": "3c982c4e",
   "metadata": {},
   "source": [
    "13.Program to print ASCII Value of a character"
   ]
  },
  {
   "cell_type": "code",
   "execution_count": 9,
   "id": "d963c7a5",
   "metadata": {},
   "outputs": [
    {
     "name": "stdout",
     "output_type": "stream",
     "text": [
      "Enter a charactor : A\n",
      " character 'A' of ascii value is 65\n"
     ]
    }
   ],
   "source": [
    "char = input(\"Enter a charactor : \")\n",
    "print(f\" character '{char}' of ascii value is {ord(char)}\")"
   ]
  },
  {
   "cell_type": "markdown",
   "id": "721ac562",
   "metadata": {},
   "source": [
    "14.Python Program for Sum of squares of first n natural numbers"
   ]
  },
  {
   "cell_type": "code",
   "execution_count": 16,
   "id": "73482741",
   "metadata": {},
   "outputs": [
    {
     "name": "stdout",
     "output_type": "stream",
     "text": [
      "30\n"
     ]
    }
   ],
   "source": [
    "def squaresum(n) :\n",
    "    sm = 0\n",
    "    for i in range(1, n+1) :\n",
    "        sm = sm + (i * i)\n",
    "    return sm\n",
    "n = 4\n",
    "print(squaresum(n)) "
   ]
  },
  {
   "cell_type": "markdown",
   "id": "2af0494f",
   "metadata": {},
   "source": [
    "15.Python Program for cube sum of first n natural numbers"
   ]
  },
  {
   "cell_type": "code",
   "execution_count": 17,
   "id": "7c3b98af",
   "metadata": {},
   "outputs": [
    {
     "name": "stdout",
     "output_type": "stream",
     "text": [
      "100\n"
     ]
    }
   ],
   "source": [
    "def cubesum(n) :\n",
    "    sm = 0\n",
    "    for i in range(1, n+1) :\n",
    "        sm = sm + (i * i * i)\n",
    "    return sm\n",
    "n = 4\n",
    "print(cubesum(n)) "
   ]
  },
  {
   "cell_type": "code",
   "execution_count": null,
   "id": "5672b88a",
   "metadata": {},
   "outputs": [],
   "source": []
  }
 ],
 "metadata": {
  "kernelspec": {
   "display_name": "Python 3",
   "language": "python",
   "name": "python3"
  },
  "language_info": {
   "codemirror_mode": {
    "name": "ipython",
    "version": 3
   },
   "file_extension": ".py",
   "mimetype": "text/x-python",
   "name": "python",
   "nbconvert_exporter": "python",
   "pygments_lexer": "ipython3",
   "version": "3.9.5"
  }
 },
 "nbformat": 4,
 "nbformat_minor": 5
}
